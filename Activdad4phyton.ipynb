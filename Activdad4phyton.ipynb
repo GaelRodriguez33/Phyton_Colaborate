{
  "nbformat": 4,
  "nbformat_minor": 0,
  "metadata": {
    "colab": {
      "provenance": [],
      "authorship_tag": "ABX9TyM/uj+UOXgMHjR3W9grHsQP",
      "include_colab_link": true
    },
    "kernelspec": {
      "name": "python3",
      "display_name": "Python 3"
    },
    "language_info": {
      "name": "python"
    }
  },
  "cells": [
    {
      "cell_type": "markdown",
      "metadata": {
        "id": "view-in-github",
        "colab_type": "text"
      },
      "source": [
        "<a href=\"https://colab.research.google.com/github/GaelRodriguez33/Phyton_Colaborate/blob/main/Activdad4phyton.ipynb\" target=\"_parent\"><img src=\"https://colab.research.google.com/assets/colab-badge.svg\" alt=\"Open In Colab\"/></a>"
      ]
    },
    {
      "cell_type": "markdown",
      "source": [
        "Alumno: Jose Gael Rodriguez Ruiz"
      ],
      "metadata": {
        "id": "hbUnkN_OKpGV"
      }
    },
    {
      "cell_type": "markdown",
      "source": [
        "# ACTIVIDAD 4 \n",
        "# 1."
      ],
      "metadata": {
        "id": "l2CHGElM8qJZ"
      }
    },
    {
      "cell_type": "code",
      "execution_count": null,
      "metadata": {
        "colab": {
          "base_uri": "https://localhost:8080/"
        },
        "id": "g8txbeZ85n9-",
        "outputId": "505858b2-2381-4329-8659-e385db7d59e6"
      },
      "outputs": [
        {
          "output_type": "stream",
          "name": "stdout",
          "text": [
            "Escriba su calificacion en su primera unidad 60\n",
            "Escriba su calificacion en su segunda unidad 60\n",
            "Escriba su calificacion en su tercera unidad 100t\n",
            "Escribe numeros porfavor\n"
          ]
        }
      ],
      "source": [
        "calif1 = (input(\"Escriba su calificacion en su primera unidad \"))\n",
        "calif2 = (input(\"Escriba su calificacion en su segunda unidad \"))\n",
        "calif3 = (input(\"Escriba su calificacion en su tercera unidad \"))\n",
        " \n",
        "try:\n",
        "    prom = int(calif1) + int(calif2) + int(calif3)\n",
        "    final = prom / 3\n",
        "\n",
        "    if  final < 30: \n",
        "        print(\"Te va a tocar repetir la materia \")\n",
        "    elif (final < 60):\n",
        "        print(\"Te vas a extraordinario \") \n",
        "    elif (final < 70):\n",
        "        print(\"Suficiente para pasar \")\n",
        "    elif (final < 80):\n",
        "        print(\"Estas regular en tus calificaciones \")\n",
        "    elif (final < 90):\n",
        "        print(\"Bien!! , buenas calificaciones \")\n",
        "    elif (final < 98):\n",
        "        print(\"Muy Bien!!!! , Muy buenas calificaciones \")\n",
        "    elif (final <= 100):\n",
        "        print(\"Exelente! , Exelentes calificaciones \")\n",
        "    elif (final > 100):\n",
        "        print(\"Error en Promedio \")\n",
        "\n",
        "except:\n",
        "    print(\"Escribe numeros porfavor\") \n",
        "  \n",
        "\n"
      ]
    },
    {
      "cell_type": "markdown",
      "source": [
        "# 2."
      ],
      "metadata": {
        "id": "V-DD38aLGo9n"
      }
    },
    {
      "cell_type": "code",
      "source": [
        "horastrabajadas = (input(\"Pon tus horas trabajadas en la semana porfavor \"))\n",
        "gananciaporhora = (input(\"Cuanto ganas por hora? \"))\n",
        "\n",
        "try:\n",
        "    jornadanormal = gananciaporhora * 40\n",
        "    if horastrabajadas <= 40:\n",
        "        pago = jornadanormal\n",
        "        print(f\"Como trabajaste la jornada Normal de 40 horas ganas {pago} \")\n",
        "    elif horastrabajadas == 49:\n",
        "        pago = pow(gananciaporhora) * 2 + jornadanormal \n",
        "        print(f\"Como metiste 9 horas extra ganas el doble y el total es {pago}\")"
      ],
      "metadata": {
        "id": "BFD8M6zhGsnf"
      },
      "execution_count": null,
      "outputs": []
    },
    {
      "cell_type": "markdown",
      "source": [
        "## 3."
      ],
      "metadata": {
        "id": "_4c4rxdCJIVE"
      }
    },
    {
      "cell_type": "code",
      "source": [
        "try:\n",
        "    consumidos = float(input(\"Ingrese los M3 de agua consumidos porfavor: \"))\n",
        "\n",
        "    if consumidos <= 4:\n",
        "        subtotal = 50\n",
        "    elif consumidos <= 15:\n",
        "        subtotal = 50 + ((consumidos - 4) * 8)\n",
        "    elif consumidos <= 50:\n",
        "        subtotal = 162 + ((consumidos - 15) * 10)\n",
        "    else:\n",
        "        subtotal = 662 + ((consumidos - 50) * 11)\n",
        "\n",
        "    iva = subtotal * 0.16\n",
        "    total = subtotal + iva\n",
        "\n",
        "    print(\"Subtotal a pagar: $\", subtotal)\n",
        "    print(\"IVA (16%): $\", iva)\n",
        "    print(\"Total a pagar: $\", total)\n",
        "\n",
        "except:\n",
        "    print(\"ERROR SOLO DEBE DE INGRESAR DIGITOS\")"
      ],
      "metadata": {
        "id": "fP-GZSw6JKsR"
      },
      "execution_count": null,
      "outputs": []
    },
    {
      "cell_type": "markdown",
      "source": [
        "## 4."
      ],
      "metadata": {
        "id": "pNQ09ftNJqXI"
      }
    },
    {
      "cell_type": "code",
      "source": [
        "try:\n",
        "    num1=int(input(\"ingrese la calificaion del primer examen: \"))\n",
        "    num2=int(input(\"ingrese la calificaion del segundo examen: \"))\n",
        "    num3=int(input(\"ingrese la calificaion del tercer examen: \"))\n",
        "    num4=int(input(\"ingrese la calificaion del cuarto examen: \"))\n",
        "    num5=int(input(\"ingrese la calificaion del quinto examen: \"))\n",
        "\n",
        "    calificaciones = [num1,num2,num3,num4,num5]\n",
        "    calificaciones_ordenadas = sorted(calificaciones)\n",
        "    promedio = sum(calificaciones_ordenadas[1:]) / 4\n",
        "    print(promedio)\n",
        "\n",
        "except:\n",
        "    print(\"ERROR SOLO DEBE DE INGRESAR DIGITOS\")\n",
        "     "
      ],
      "metadata": {
        "id": "ToXD8upEJp0v"
      },
      "execution_count": null,
      "outputs": []
    },
    {
      "cell_type": "markdown",
      "source": [
        "## 5."
      ],
      "metadata": {
        "id": "3UGJAqyzJ6EY"
      }
    },
    {
      "cell_type": "code",
      "source": [
        "try:\n",
        "    import random\n",
        "\n",
        "    print(\"Bienvenido al juego de piedra, papel o tijera\")\n",
        "    print(\"Ingrese su jugada: \")\n",
        "    jugada = input(\"piedra, papel o tijera: \").lower()\n",
        "\n",
        "    if jugada != \"piedra\" and jugada != \"papel\" and jugada != \"tijera\":\n",
        "        print(\"Jugada no válida. Inténtalo de nuevo.\")\n",
        "    else:\n",
        "        print(\"Jugador seleccionó:\", jugada)\n",
        "        opciones = [\"piedra\", \"papel\", \"tijera\"]\n",
        "        computadora = random.choice(opciones)\n",
        "        print(\"Computadora seleccionó:\", computadora)\n",
        "\n",
        "        if jugada == computadora:\n",
        "            print(\"Empate!\")\n",
        "        elif jugada == \"piedra\":\n",
        "            if computadora == \"papel\":\n",
        "                print(\"La computadora gana!\")\n",
        "            else:\n",
        "                print(\"El jugador gana!\")\n",
        "        elif jugada == \"papel\":\n",
        "            if computadora == \"tijera\":\n",
        "                print(\"La computadora gana!\")\n",
        "            else:\n",
        "                print(\"El jugador gana!\")\n",
        "        else:\n",
        "            if computadora == \"piedra\":\n",
        "                print(\"La computadora gana!\")\n",
        "            else:\n",
        "                print(\"El jugador gana!\")\n",
        "\n",
        "except:\n",
        "    print(\"ERROR SOLO DEBE DE INGRESAR DIGITOS\")"
      ],
      "metadata": {
        "id": "6dR70_DHJ9Hb"
      },
      "execution_count": null,
      "outputs": []
    },
    {
      "cell_type": "markdown",
      "source": [
        "## 6."
      ],
      "metadata": {
        "id": "FhUlM8FeKHs-"
      }
    },
    {
      "cell_type": "code",
      "source": [
        "try:\n",
        "    num1=int(input(\"ingrese el primer numero: \"))\n",
        "    num2=int(input(\"ingrese el segundo numero: \"))\n",
        "    num3=int(input(\"ingrese el tercer numero: \"))\n",
        "    num4=int(input(\"ingrese el cuarto numero: \"))\n",
        "\n",
        "    print(\"El numero menor es : \", min(num1,num2,num3,num4))\n",
        "    print(\"El numero mayor es : \", max(num1,num2,num3,num4))\n",
        "    \n",
        "except:\n",
        "    print(\"ERROR SOLO DEBE DE INGRESAR DIGITOS\")"
      ],
      "metadata": {
        "id": "ByqFbIM0KJu7"
      },
      "execution_count": null,
      "outputs": []
    },
    {
      "cell_type": "markdown",
      "source": [
        "## 7."
      ],
      "metadata": {
        "id": "XR51HyFsKPst"
      }
    },
    {
      "cell_type": "code",
      "source": [
        "try:\n",
        "    base=float(input(\"ingrese la medida de la base del triangulo: \"))\n",
        "    altura=float(input(\"ingrese la medida de la altura del triangulo: : \"))\n",
        "\n",
        "    area=(base * altura)/2\n",
        "\n",
        "    print(f\"El area del triangulo es de: {area:.2f}\")\n",
        "    \n",
        "except:\n",
        "    print(\"ERROR SOLO DEBE DE INGRESAR DIGITOS\")"
      ],
      "metadata": {
        "id": "YsHxTYUiKRt7"
      },
      "execution_count": null,
      "outputs": []
    },
    {
      "cell_type": "markdown",
      "source": [
        "## 8."
      ],
      "metadata": {
        "id": "wtU9C_WVKXl_"
      }
    },
    {
      "cell_type": "code",
      "source": [
        "try:\n",
        "    radio=float(input(\"ingrese la medida del radio del circulo: \"))\n",
        "\n",
        "    area=3.1416*(radio*radio)\n",
        "\n",
        "    print(f\"El area del circulo es de: {area:.2f}\")\n",
        "\n",
        "except:\n",
        "    print(\"ERROR SOLO DEBE DE INGRESAR DIGITOS\")"
      ],
      "metadata": {
        "id": "tcx5Hm_vKZz9"
      },
      "execution_count": null,
      "outputs": []
    }
  ]
}