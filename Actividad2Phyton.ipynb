{
  "nbformat": 4,
  "nbformat_minor": 0,
  "metadata": {
    "colab": {
      "provenance": [],
      "toc_visible": true,
      "authorship_tag": "ABX9TyM1ypwNwx89vQ8cgMts5r3K",
      "include_colab_link": true
    },
    "kernelspec": {
      "name": "python3",
      "display_name": "Python 3"
    },
    "language_info": {
      "name": "python"
    }
  },
  "cells": [
    {
      "cell_type": "markdown",
      "metadata": {
        "id": "view-in-github",
        "colab_type": "text"
      },
      "source": [
        "<a href=\"https://colab.research.google.com/github/GaelRodriguez33/Phyton_Colaborate/blob/main/Actividad2Phyton.ipynb\" target=\"_parent\"><img src=\"https://colab.research.google.com/assets/colab-badge.svg\" alt=\"Open In Colab\"/></a>"
      ]
    },
    {
      "cell_type": "markdown",
      "source": [
        "##  ACTIVIDAD 2 (1,2,3,4)"
      ],
      "metadata": {
        "id": "Yo87GYIH5JDG"
      }
    },
    {
      "cell_type": "code",
      "source": [
        "numero1 = int(input(\"Elija un numero \"))\n",
        "numero2 = int(input(\"Elija otro numero \"))\n",
        "if numero1 > numero2:\n",
        "    print(f\"el numero mayor es: {numero1} \")\n",
        "if numero2 > numero1:\n",
        "    print(f\"el numero mas grande es {numero2} \")"
      ],
      "metadata": {
        "colab": {
          "base_uri": "https://localhost:8080/"
        },
        "id": "YaGNB5EXElny",
        "outputId": "ed6a8e3a-ec59-4341-e9ed-ff0614ad76c8"
      },
      "execution_count": 20,
      "outputs": [
        {
          "output_type": "stream",
          "name": "stdout",
          "text": [
            "Elija un numero 4\n",
            "Elija otro numero 9\n",
            "el numero mas grande es 9 \n"
          ]
        }
      ]
    },
    {
      "cell_type": "code",
      "source": [
        "calif1 = int(input(\"Escriba su calificacion en su primera materia \"))\n",
        "calif2 = int(input(\"Escriba su calificacion en su Segunda materia \"))\n",
        "calif3 = int(input(\"Escriba su calificacion en su Tercera materia \"))\n",
        "calif4 = int(input(\"Escriba su calificacion en su Cuarta materia \"))\n",
        "promedio = calif1 + calif2 + calif3 + calif4 \n",
        "final = promedio / 4\n",
        "\n",
        "if final >= 70:\n",
        "    print(f\"Felicidades aprobaste el semestre hurra con {final} \")\n",
        "if final < 70:\n",
        "    print(f\"Nimodo chavo a recursar por que sacaste {final} \")\n"
      ],
      "metadata": {
        "colab": {
          "base_uri": "https://localhost:8080/"
        },
        "id": "iWhK1IzTFTwv",
        "outputId": "1862b974-fd3b-4bb4-985a-e9bd64591b45"
      },
      "execution_count": 21,
      "outputs": [
        {
          "output_type": "stream",
          "name": "stdout",
          "text": [
            "Escriba su calificacion en su primera materia 60\n",
            "Escriba su calificacion en su Segunda materia 60\n",
            "Escriba su calificacion en su Tercera materia 60\n",
            "Escriba su calificacion en su Cuarta materia 60\n",
            "Nimodo chavo a recursar por que sacaste 60.0 \n"
          ]
        }
      ]
    },
    {
      "cell_type": "code",
      "source": [
        "sexo = int(input(\"Cual es su sexo 1. Hombre 2. Mujer? \"))\n",
        "if sexo == 1:\n",
        "    print(\"Hombre \")\n",
        "if sexo == 2:\n",
        "    print(\"Mujer \")"
      ],
      "metadata": {
        "colab": {
          "base_uri": "https://localhost:8080/"
        },
        "id": "DxjplVLcFrQg",
        "outputId": "c8d75504-0c8f-4ffe-902b-4eb10c80be91"
      },
      "execution_count": 23,
      "outputs": [
        {
          "output_type": "stream",
          "name": "stdout",
          "text": [
            "Cual es su sexo 1. Hombre 2. Mujer? 2\n",
            "Mujer \n"
          ]
        }
      ]
    },
    {
      "cell_type": "code",
      "source": [
        "num1 = int(input(\"Por Favor Escriba un numero entero \"))\n",
        "if num1 % 2 == 0:\n",
        "    print(\"el numero {num1} que puso es PAR \")\n",
        "if num1 % 2 != 0: \n",
        "    print(\"el numero {num1} que puso es IMPAR \")"
      ],
      "metadata": {
        "colab": {
          "base_uri": "https://localhost:8080/"
        },
        "id": "HLZJZH55F5_2",
        "outputId": "e664bc6d-843d-4e8f-fad7-5686a2a86fac"
      },
      "execution_count": 25,
      "outputs": [
        {
          "output_type": "stream",
          "name": "stdout",
          "text": [
            "Por Favor Escriba un numero entero 1\n",
            "el numero {num1} que puso es IMPAR \n"
          ]
        }
      ]
    },
    {
      "cell_type": "markdown",
      "source": [
        "# 5,6,7,8"
      ],
      "metadata": {
        "id": "dfkXlnGuEoNW"
      }
    },
    {
      "cell_type": "code",
      "execution_count": 5,
      "metadata": {
        "colab": {
          "base_uri": "https://localhost:8080/"
        },
        "id": "rbtQ9ElN44a5",
        "outputId": "f48cdbe2-bba6-4599-b693-b3456233b2d1"
      },
      "outputs": [
        {
          "output_type": "stream",
          "name": "stdout",
          "text": [
            "Elija un numero 5\n",
            "Elija otro numero 6\n",
            "el numero mas grande es 6 \n"
          ]
        }
      ],
      "source": [
        "numero1 = int(input(\"Elija un numero \"))\n",
        "numero2 = int(input(\"Elija otro numero \"))\n",
        "if numero1 > numero2:\n",
        "    print(f\"el numero mayor es: {numero1} \")\n",
        "else:\n",
        "    print(f\"el numero mas grande es {numero2} \")"
      ]
    },
    {
      "cell_type": "code",
      "source": [
        "calif1 = int(input(\"Escriba su calificacion en su primera materia \"))\n",
        "calif2 = int(input(\"Escriba su calificacion en su Segunda materia \"))\n",
        "calif3 = int(input(\"Escriba su calificacion en su Tercera materia \"))\n",
        "calif4 = int(input(\"Escriba su calificacion en su Cuarta materia \"))\n",
        "promedio = calif1 + calif2 + calif3 + calif4 \n",
        "final = promedio / 4\n",
        "\n",
        "if final >= 70:\n",
        "    print(f\"Felicidades aprobaste el semestre hurra con {final} \")\n",
        "else:\n",
        "    print(f\"Nimodo chavo a recursar por que sacaste {final} \")"
      ],
      "metadata": {
        "colab": {
          "base_uri": "https://localhost:8080/"
        },
        "id": "VEZ6BfL87y8M",
        "outputId": "9f0b36f1-4ca4-40dc-91c3-a6476d04b907"
      },
      "execution_count": 11,
      "outputs": [
        {
          "output_type": "stream",
          "name": "stdout",
          "text": [
            "Escriba su calificacion en su primera materia 60\n",
            "Escriba su calificacion en su Segunda materia 60\n",
            "Escriba su calificacion en su Tercera materia 60\n",
            "Escriba su calificacion en su Cuarta materia 60\n",
            "Nimodo chavo a recursar por que sacaste 60.0 \n"
          ]
        }
      ]
    },
    {
      "cell_type": "code",
      "source": [
        "sexo = int(input(\"Cual es su sexo 1. Hombre 2. Mujer? \"))\n",
        "if sexo == 1:\n",
        "    print(\"Hombre \")\n",
        "else:\n",
        "    print(\"Mujer \")\n"
      ],
      "metadata": {
        "colab": {
          "base_uri": "https://localhost:8080/"
        },
        "id": "4POXA9TU-v3v",
        "outputId": "5f6796ab-d1e2-47e1-ea0c-d6a3d7dd5809"
      },
      "execution_count": 14,
      "outputs": [
        {
          "output_type": "stream",
          "name": "stdout",
          "text": [
            "Cual es su sexo 1. Hombre 2. Mujer? 2\n",
            "Mujer \n"
          ]
        }
      ]
    },
    {
      "cell_type": "code",
      "source": [
        "num1 = int(input(\"Por Favor Escriba un numero entero \"))\n",
        "if num1 % 2 == 0:\n",
        "    print(\"el numero {num1} que puso es PAR \")\n",
        "else:\n",
        "    print(\"el numero {num1} que puso es IMPAR \")"
      ],
      "metadata": {
        "colab": {
          "base_uri": "https://localhost:8080/"
        },
        "id": "ftgTiufZBJRV",
        "outputId": "1620a59a-0eeb-4243-a6b8-4e1b2f8d6771"
      },
      "execution_count": 19,
      "outputs": [
        {
          "output_type": "stream",
          "name": "stdout",
          "text": [
            "Por Favor Escriba un numero entero 3\n",
            "el numero {num1} que puso es IMPAR \n"
          ]
        }
      ]
    }
  ]
}